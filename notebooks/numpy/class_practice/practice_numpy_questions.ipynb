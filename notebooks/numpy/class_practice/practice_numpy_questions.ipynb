{
 "cells": [
  {
   "cell_type": "markdown",
   "metadata": {},
   "source": [
    "Get some practice with numpy:\n",
    "\n",
    "https://numpy.org/doc/2.1/user/absolute_beginners.html"
   ]
  },
  {
   "cell_type": "code",
   "execution_count": 2,
   "metadata": {},
   "outputs": [],
   "source": [
    "import numpy as np\n",
    "import pandas as pd\n",
    "import matplotlib.pyplot as plt\n",
    "import random"
   ]
  },
  {
   "cell_type": "markdown",
   "metadata": {},
   "source": [
    "Create a 1D NumPy array containing the numbers from 1 to 10.\n",
    "\n",
    "Create a 1D array with 20 evenly spaced numbers between 0 and 1."
   ]
  },
  {
   "cell_type": "code",
   "execution_count": 3,
   "metadata": {},
   "outputs": [
    {
     "name": "stdout",
     "output_type": "stream",
     "text": [
      "[ 1.  2.  3.  4.  5.  6.  7.  8.  9. 10.]\n",
      "[0.         0.05263158 0.10526316 0.15789474 0.21052632 0.26315789\n",
      " 0.31578947 0.36842105 0.42105263 0.47368421 0.52631579 0.57894737\n",
      " 0.63157895 0.68421053 0.73684211 0.78947368 0.84210526 0.89473684\n",
      " 0.94736842 1.        ]\n"
     ]
    }
   ],
   "source": [
    "a = np.linspace(1, 10, num=10)\n",
    "print(a)\n",
    "b = np.linspace(0, 1, num=20)\n",
    "print(b)\n"
   ]
  },
  {
   "cell_type": "markdown",
   "metadata": {},
   "source": [
    "Create two separate matrices of the same size. Then combine these two matrices row-wise and then column-wise to create the respective new matrix and array."
   ]
  },
  {
   "cell_type": "code",
   "execution_count": 4,
   "metadata": {},
   "outputs": [
    {
     "name": "stdout",
     "output_type": "stream",
     "text": [
      "[[ 1  2]\n",
      " [ 3  4]\n",
      " [ 5  6]\n",
      " [ 7  8]\n",
      " [ 9 10]\n",
      " [11 12]]\n",
      "[[ 1  2  7  8]\n",
      " [ 3  4  9 10]\n",
      " [ 5  6 11 12]]\n"
     ]
    }
   ],
   "source": [
    "data1 = np.array([[1, 2], [3, 4], [5, 6]])\n",
    "data2 = np.array([[7, 8], [9, 10], [11, 12]])\n",
    "result1 = np.concatenate((data1,data2), axis=0)\n",
    "result2 = np.concatenate((data1,data2), axis=1)\n",
    "print(result1)\n",
    "print(result2)"
   ]
  },
  {
   "cell_type": "markdown",
   "metadata": {},
   "source": [
    "Create a 3x3 matrix of random numbers.\n",
    "\n",
    "Create a 4x4 matrix of zeros and then fill the first row with the numbers [1, 2, 3, 4]."
   ]
  },
  {
   "cell_type": "code",
   "execution_count": 5,
   "metadata": {},
   "outputs": [
    {
     "name": "stdout",
     "output_type": "stream",
     "text": [
      "[[0.51732398 0.35795644 0.18767911]\n",
      " [0.03403624 0.9984191  0.97136032]\n",
      " [0.02094461 0.7505423  0.36504474]]\n",
      "[[1. 2. 3. 4.]\n",
      " [0. 0. 0. 0.]\n",
      " [0. 0. 0. 0.]\n",
      " [0. 0. 0. 0.]]\n"
     ]
    }
   ],
   "source": [
    "matrixrand = np.random.rand(3,3)\n",
    "print(matrixrand)\n",
    "\n",
    "matrixzero = np.zeros((4,4))\n",
    "\n",
    "matrixzero[0] = [1,2,3,4]\n",
    "\n",
    "print(matrixzero)"
   ]
  },
  {
   "cell_type": "markdown",
   "metadata": {},
   "source": [
    "Reshape the 1D array of numbers from 1 to 10 into a 2x5 array."
   ]
  },
  {
   "cell_type": "code",
   "execution_count": 6,
   "metadata": {},
   "outputs": [
    {
     "name": "stdout",
     "output_type": "stream",
     "text": [
      "[[ 1.  2.  3.  4.  5.]\n",
      " [ 6.  7.  8.  9. 10.]]\n"
     ]
    }
   ],
   "source": [
    "reshape_arr = a.reshape(2,5)\n",
    "print(reshape_arr)"
   ]
  },
  {
   "cell_type": "markdown",
   "metadata": {},
   "source": [
    "Create two 1D arrays of the same length. Stack them vertically and horizontally."
   ]
  },
  {
   "cell_type": "code",
   "execution_count": 7,
   "metadata": {},
   "outputs": [
    {
     "name": "stdout",
     "output_type": "stream",
     "text": [
      "[ 1.  2.  3.  4.  5.  6.  7.  8.  9. 10.]\n",
      "[11. 12. 13. 14. 15. 16. 17. 18. 19. 20.]\n",
      "[[[ 1. 11.]\n",
      "  [ 2. 12.]\n",
      "  [ 3. 13.]\n",
      "  [ 4. 14.]\n",
      "  [ 5. 15.]\n",
      "  [ 6. 16.]\n",
      "  [ 7. 17.]\n",
      "  [ 8. 18.]\n",
      "  [ 9. 19.]\n",
      "  [10. 20.]]]\n",
      "[[ 1.  2.  3.  4.  5.  6.  7.  8.  9. 10.]\n",
      " [11. 12. 13. 14. 15. 16. 17. 18. 19. 20.]]\n"
     ]
    }
   ],
   "source": [
    "arr1 = np.linspace(1, 10, num=10)\n",
    "print(arr1)\n",
    "arr2 = np.linspace(11, 20, num=10)\n",
    "print(arr2)\n",
    "\n",
    "rows = np.dstack((arr1,arr2))\n",
    "print(rows)\n",
    "\n",
    "cols = np.vstack((arr1,arr2))\n",
    "print(cols)\n"
   ]
  },
  {
   "cell_type": "markdown",
   "metadata": {},
   "source": [
    "Extract the second row and third column of a 4x4 matrix.\n",
    "\n",
    "Change the value of a specific element in this matrix to 100 using indexing."
   ]
  },
  {
   "cell_type": "code",
   "execution_count": 8,
   "metadata": {},
   "outputs": [
    {
     "name": "stdout",
     "output_type": "stream",
     "text": [
      "[[1. 2. 3. 4.]\n",
      " [0. 0. 0. 0.]\n",
      " [0. 0. 0. 0.]\n",
      " [0. 0. 0. 0.]]\n",
      "[0. 0. 0. 0.] [3. 0. 0. 0.]\n",
      "[[1. 2. 3. 4.]\n",
      " [0. 3. 0. 0.]\n",
      " [0. 0. 0. 0.]\n",
      " [0. 0. 0. 0.]]\n"
     ]
    }
   ],
   "source": [
    "print(matrixzero)\n",
    "\n",
    "second_row = matrixzero[1]\n",
    "thirdcolumn = matrixzero [:,2]\n",
    "\n",
    "print(second_row, thirdcolumn)\n",
    "\n",
    "matrixzero[1, 1] = 3\n",
    "print(matrixzero)\n",
    "\n"
   ]
  },
  {
   "cell_type": "markdown",
   "metadata": {},
   "source": [
    "Replace all even numbers in the array of numbers from 1 to 10 with 0.\n",
    "\n",
    "Replace all values greater than 5 in the 4x4 random float array with 0.5."
   ]
  },
  {
   "cell_type": "code",
   "execution_count": 15,
   "metadata": {},
   "outputs": [
    {
     "name": "stdout",
     "output_type": "stream",
     "text": [
      "[1 0 3 0 5 0 7 0 9 0]\n",
      "[[4.46048348 1.62663591 9.16663721 3.08978944]\n",
      " [8.23401083 4.93394554 5.98062546 3.62831623]\n",
      " [6.76390454 0.97809955 9.15640123 2.94062568]\n",
      " [5.1209434  7.5739615  6.9256786  3.75371631]]\n",
      "[[4.46048348 1.62663591 0.5        3.08978944]\n",
      " [0.5        4.93394554 0.5        3.62831623]\n",
      " [0.5        0.97809955 0.5        2.94062568]\n",
      " [0.5        0.5        0.5        3.75371631]]\n"
     ]
    }
   ],
   "source": [
    "\n",
    "array_1_to_10 = np.arange(1, 11)\n",
    "array_1_to_10[array_1_to_10 % 2 == 0] = 0\n",
    "print(array_1_to_10)\n",
    "\n",
    "\n",
    "random_matrix = np.random.rand(4, 4) * 10\n",
    "print(random_matrix)\n",
    "\n",
    "random_matrix[random_matrix > 5] = 0.5\n",
    "print(random_matrix)\n"
   ]
  },
  {
   "cell_type": "markdown",
   "metadata": {},
   "source": [
    "Add two arrays element-wise.\n",
    "\n",
    "Multiply two arrays element-wise."
   ]
  },
  {
   "cell_type": "code",
   "execution_count": 17,
   "metadata": {},
   "outputs": [
    {
     "name": "stdout",
     "output_type": "stream",
     "text": [
      "[ 6  8 10 12]\n",
      "[ 5 12 21 32]\n"
     ]
    }
   ],
   "source": [
    "array1 = np.array([1, 2, 3, 4])\n",
    "array2 = np.array([5, 6, 7, 8])\n",
    "\n",
    "added_arrays = array1 + array2\n",
    "print(added_arrays)\n",
    "\n",
    "multiplied_arrays = array1 * array2\n",
    "print(multiplied_arrays)\n"
   ]
  },
  {
   "cell_type": "markdown",
   "metadata": {},
   "source": [
    "Create a function that sums up the numbers in a randomly generated matrix by rows and by columns."
   ]
  },
  {
   "cell_type": "code",
   "execution_count": 21,
   "metadata": {},
   "outputs": [
    {
     "name": "stdout",
     "output_type": "stream",
     "text": [
      "[[0.83535652 0.17333217 0.33081643 0.242951   0.19270751]\n",
      " [0.73808262 0.17046948 0.91805922 0.81899619 0.52289409]\n",
      " [0.7542249  0.80645826 0.23347945 0.58031537 0.75177052]\n",
      " [0.41376426 0.06351508 0.39936862 0.91713887 0.40940209]]\n",
      "[1.77516364 3.1685016  3.12624849 2.20318893]\n",
      "[2.7414283  1.21377499 1.88172373 2.55940143 1.87677422]\n"
     ]
    }
   ],
   "source": [
    "def sum_rows_and_columns(matrix):\n",
    "    return np.sum(matrix, axis=1), np.sum(matrix, axis=0)\n",
    "\n",
    "matrix = np.random.rand(4, 5)\n",
    "print(matrix)\n",
    "\n",
    "row_sums, column_sums = sum_rows_and_columns(matrix)\n",
    "print(row_sums)\n",
    "print(column_sums)\n"
   ]
  },
  {
   "cell_type": "markdown",
   "metadata": {},
   "source": [
    "Create a function that takes in two matrices and ensures that they can be multiplied, if they can be multiplied, \n",
    "multiply them and print the resulting matrix.\n"
   ]
  },
  {
   "cell_type": "code",
   "execution_count": 12,
   "metadata": {},
   "outputs": [],
   "source": [
    "# write code here"
   ]
  },
  {
   "cell_type": "markdown",
   "metadata": {},
   "source": [
    "Find the minimum value of a randomly generated 5x5 matrix with the indices by row and column of where they appear in the matrix."
   ]
  },
  {
   "cell_type": "code",
   "execution_count": 13,
   "metadata": {},
   "outputs": [],
   "source": [
    "# write code here"
   ]
  }
 ],
 "metadata": {
  "kernelspec": {
   "display_name": "Python 3",
   "language": "python",
   "name": "python3"
  },
  "language_info": {
   "codemirror_mode": {
    "name": "ipython",
    "version": 3
   },
   "file_extension": ".py",
   "mimetype": "text/x-python",
   "name": "python",
   "nbconvert_exporter": "python",
   "pygments_lexer": "ipython3",
   "version": "3.10.0"
  }
 },
 "nbformat": 4,
 "nbformat_minor": 2
}
